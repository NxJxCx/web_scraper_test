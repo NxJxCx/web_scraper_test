{
 "cells": [
  {
   "cell_type": "code",
   "execution_count": null,
   "metadata": {},
   "outputs": [],
   "source": [
    "%pip install requests beautifulsoup4 pandas numpy selenium"
   ]
  },
  {
   "cell_type": "code",
   "execution_count": 29,
   "metadata": {},
   "outputs": [
    {
     "data": {
      "text/plain": [
       "<Task pending name='Task-17' coro=<main() running at C:\\Users\\canet_f7h5kzg\\AppData\\Local\\Temp\\ipykernel_13940\\773533454.py:33>>"
      ]
     },
     "execution_count": 29,
     "metadata": {},
     "output_type": "execute_result"
    },
    {
     "name": "stdout",
     "output_type": "stream",
     "text": [
      "CSV saved to fopsco.ph.csv\n"
     ]
    }
   ],
   "source": [
    "from selenium import webdriver\n",
    "from selenium.webdriver.common.by import By\n",
    "from urllib.parse import urlparse, parse_qs, unquote\n",
    "import asyncio\n",
    "import pandas as pd\n",
    "\n",
    "def saveToCSV(data: list, filename: str):\n",
    "  df = pd.DataFrame(data, columns=[\"Facebook Links\"])\n",
    "  df.to_csv(filename, index=False)\n",
    "  print(f\"CSV saved to {filename}\")\n",
    "\n",
    "\n",
    "async def getDriver(driver, facebook_page):\n",
    "  driver.get(f\"https://www.facebook.com/{facebook_page}\")\n",
    "  await asyncio.sleep(0.5)\n",
    "\n",
    "def filter_Button(x):\n",
    "  if x.get_attribute(\"aria-label\") == \"Close\" and x.get_attribute(\"role\") == \"button\" and str(x.get_attribute(\"tabindex\")) == \"0\":\n",
    "    return True\n",
    "  return False\n",
    "\n",
    "def get_facebook_links(facebook_link: str, facebook_page: str):\n",
    "  if facebook_link.startswith(f\"https://l.facebook.com/l.php\"):\n",
    "    parsed_url = urlparse(facebook_link)\n",
    "    query_params = parse_qs(parsed_url.query)\n",
    "    url = query_params.get(\"u\", [None])\n",
    "    if len(url) > 0:\n",
    "      return unquote(url[0])\n",
    "  elif facebook_link.startswith(f\"https://www.facebook.com/{facebook_page}/\") or facebook_link.startswith(f\"https://www.facebook.com/photo/\"):\n",
    "    return facebook_link\n",
    "  return None\n",
    "\n",
    "async def main():\n",
    "  driver = webdriver.Chrome()\n",
    "  fb_page = \"fopsco.ph\"\n",
    "  await getDriver(driver, fb_page)\n",
    "  buttonToClose = driver.find_elements(By.TAG_NAME, \"div\")\n",
    "  # \"x1i10hfl xjqpnuy xa49m3k xqeqjp1 x2hbi6w x13fuv20 xu3j5b3 x1q0q8m5 x26u7qi x1ypdohk xdl72j9 x2lah0s xe8uvvx xdj266r x11i5rnm xat24cr x1mh8g0r x2lwn1j xeuugli x16tdsg8 x1hl2dhg xggy1nq x1ja2u2z x1t137rt x1q0g3np x87ps6o x1lku1pv x1a2a7pz x6s0dn4 xzolkzo x12go9s9 x1rnf11y xprq8jg x972fbf xcfux6l x1qhh985 xm0m39n x9f619 x78zum5 xl56j7k xexx8yu x4uap5 x18d9i69 xkhd6sd x1n2onr6 xc9qbxq x14qfxbe x1qhmfi1\"\n",
    "  filteredButton = list(filter(filter_Button, buttonToClose))\n",
    "  for x in filteredButton:\n",
    "    x.click()\n",
    "    await asyncio.sleep(0.5)\n",
    "  links = driver.find_elements(By.TAG_NAME, \"a\")\n",
    "  facebook_links = [link.get_attribute(\"href\") for link in links if link.get_attribute(\"href\") and 'facebook.com' in link.get_attribute(\"href\")]\n",
    "  driver.quit()\n",
    "  filtered_facebook_links = list(filter(lambda x: x != None, (get_facebook_links(l, fb_page) for l in facebook_links)))\n",
    "  saveToCSV(filtered_facebook_links, f\"{fb_page}.csv\")\n",
    "\n",
    "loop = asyncio.get_event_loop()\n",
    "\n",
    "\n",
    "loop.create_task(main())"
   ]
  }
 ],
 "metadata": {
  "kernelspec": {
   "display_name": ".venv",
   "language": "python",
   "name": "python3"
  },
  "language_info": {
   "codemirror_mode": {
    "name": "ipython",
    "version": 3
   },
   "file_extension": ".py",
   "mimetype": "text/x-python",
   "name": "python",
   "nbconvert_exporter": "python",
   "pygments_lexer": "ipython3",
   "version": "3.11.9"
  }
 },
 "nbformat": 4,
 "nbformat_minor": 2
}
