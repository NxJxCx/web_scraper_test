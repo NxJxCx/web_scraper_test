{
 "cells": [
  {
   "cell_type": "code",
   "execution_count": 24,
   "metadata": {},
   "outputs": [
    {
     "name": "stdout",
     "output_type": "stream",
     "text": [
      "Requirement already satisfied: requests in .\\.venv\\lib\\site-packages (2.32.3)\n",
      "Requirement already satisfied: beautifulsoup4 in .\\.venv\\lib\\site-packages (4.12.3)\n",
      "Requirement already satisfied: pandas in .\\.venv\\lib\\site-packages (2.2.3)\n",
      "Requirement already satisfied: numpy in .\\.venv\\lib\\site-packages (2.2.1)\n",
      "Requirement already satisfied: selenium in .\\.venv\\lib\\site-packages (4.27.1)\n",
      "Requirement already satisfied: charset-normalizer<4,>=2 in .\\.venv\\lib\\site-packages (from requests) (3.4.1)\n",
      "Requirement already satisfied: idna<4,>=2.5 in .\\.venv\\lib\\site-packages (from requests) (3.10)\n",
      "Requirement already satisfied: urllib3<3,>=1.21.1 in .\\.venv\\lib\\site-packages (from requests) (2.3.0)\n",
      "Requirement already satisfied: certifi>=2017.4.17 in .\\.venv\\lib\\site-packages (from requests) (2024.12.14)\n",
      "Requirement already satisfied: soupsieve>1.2 in .\\.venv\\lib\\site-packages (from beautifulsoup4) (2.6)\n",
      "Requirement already satisfied: python-dateutil>=2.8.2 in .\\.venv\\lib\\site-packages (from pandas) (2.9.0.post0)\n",
      "Requirement already satisfied: pytz>=2020.1 in .\\.venv\\lib\\site-packages (from pandas) (2024.2)\n",
      "Requirement already satisfied: tzdata>=2022.7 in .\\.venv\\lib\\site-packages (from pandas) (2024.2)\n",
      "Requirement already satisfied: trio~=0.17 in .\\.venv\\lib\\site-packages (from selenium) (0.28.0)\n",
      "Requirement already satisfied: trio-websocket~=0.9 in .\\.venv\\lib\\site-packages (from selenium) (0.11.1)\n",
      "Requirement already satisfied: typing_extensions~=4.9 in .\\.venv\\lib\\site-packages (from selenium) (4.12.2)\n",
      "Requirement already satisfied: websocket-client~=1.8 in .\\.venv\\lib\\site-packages (from selenium) (1.8.0)\n",
      "Requirement already satisfied: six>=1.5 in .\\.venv\\lib\\site-packages (from python-dateutil>=2.8.2->pandas) (1.17.0)\n",
      "Requirement already satisfied: attrs>=23.2.0 in .\\.venv\\lib\\site-packages (from trio~=0.17->selenium) (24.3.0)\n",
      "Requirement already satisfied: sortedcontainers in .\\.venv\\lib\\site-packages (from trio~=0.17->selenium) (2.4.0)\n",
      "Requirement already satisfied: outcome in .\\.venv\\lib\\site-packages (from trio~=0.17->selenium) (1.3.0.post0)\n",
      "Requirement already satisfied: sniffio>=1.3.0 in .\\.venv\\lib\\site-packages (from trio~=0.17->selenium) (1.3.1)\n",
      "Requirement already satisfied: cffi>=1.14 in .\\.venv\\lib\\site-packages (from trio~=0.17->selenium) (1.17.1)\n",
      "Requirement already satisfied: wsproto>=0.14 in .\\.venv\\lib\\site-packages (from trio-websocket~=0.9->selenium) (1.2.0)\n",
      "Requirement already satisfied: pysocks!=1.5.7,<2.0,>=1.5.6 in .\\.venv\\lib\\site-packages (from urllib3[socks]<3,>=1.26->selenium) (1.7.1)\n",
      "Requirement already satisfied: pycparser in .\\.venv\\lib\\site-packages (from cffi>=1.14->trio~=0.17->selenium) (2.22)\n",
      "Requirement already satisfied: h11<1,>=0.9.0 in .\\.venv\\lib\\site-packages (from wsproto>=0.14->trio-websocket~=0.9->selenium) (0.14.0)\n",
      "Note: you may need to restart the kernel to use updated packages.\n",
      "Note: you may need to restart the kernel to use updated packages.\n"
     ]
    },
    {
     "name": "stderr",
     "output_type": "stream",
     "text": [
      "ERROR: Could not find a version that satisfies the requirement urllib (from versions: none)\n",
      "ERROR: No matching distribution found for urllib\n"
     ]
    }
   ],
   "source": [
    "%pip install requests beautifulsoup4 pandas numpy selenium"
   ]
  },
  {
   "cell_type": "code",
   "execution_count": 26,
   "metadata": {},
   "outputs": [
    {
     "data": {
      "text/plain": [
       "<Task pending name='Task-15' coro=<main() running at C:\\Users\\canet_f7h5kzg\\AppData\\Local\\Temp\\ipykernel_13940\\1250819090.py:32>>"
      ]
     },
     "execution_count": 26,
     "metadata": {},
     "output_type": "execute_result"
    }
   ],
   "source": [
    "from selenium import webdriver\n",
    "from selenium.webdriver.common.by import By\n",
    "from urllib.parse import urlparse, parse_qs, unquote\n",
    "import asyncio\n",
    "import pandas as pd\n",
    "\n",
    "def saveToCSV(data: list, filename: str):\n",
    "  df = pd.DataFrame(data, columns=[\"Facebook Links\"])\n",
    "  df.to_csv(filename, index=False)\n",
    "\n",
    "\n",
    "async def getDriver(driver, facebook_page):\n",
    "  driver.get(f\"https://www.facebook.com/{facebook_page}\")\n",
    "  await asyncio.sleep(0.5)\n",
    "\n",
    "def filter_Button(x):\n",
    "  if x.get_attribute(\"aria-label\") == \"Close\" and x.get_attribute(\"role\") == \"button\" and str(x.get_attribute(\"tabindex\")) == \"0\":\n",
    "    return True\n",
    "  return False\n",
    "\n",
    "def get_facebook_links(facebook_link: str, facebook_page: str):\n",
    "  if facebook_link.startswith(f\"https://l.facebook.com/l.php\"):\n",
    "    parsed_url = urlparse(facebook_link)\n",
    "    query_params = parse_qs(parsed_url.query)\n",
    "    url = query_params.get(\"u\", [None])\n",
    "    if len(url) > 0:\n",
    "      return unquote(url[0])\n",
    "  elif facebook_link.startswith(f\"https://www.facebook.com/{facebook_page}/\") or facebook_link.startswith(f\"https://www.facebook.com/photo/\"):\n",
    "    return facebook_link\n",
    "  return None\n",
    "\n",
    "async def main():\n",
    "  driver = webdriver.Chrome()\n",
    "  fb_page = \"fopsco.ph\"\n",
    "  await getDriver(driver, fb_page)\n",
    "  buttonToClose = driver.find_elements(By.TAG_NAME, \"div\")\n",
    "  # \"x1i10hfl xjqpnuy xa49m3k xqeqjp1 x2hbi6w x13fuv20 xu3j5b3 x1q0q8m5 x26u7qi x1ypdohk xdl72j9 x2lah0s xe8uvvx xdj266r x11i5rnm xat24cr x1mh8g0r x2lwn1j xeuugli x16tdsg8 x1hl2dhg xggy1nq x1ja2u2z x1t137rt x1q0g3np x87ps6o x1lku1pv x1a2a7pz x6s0dn4 xzolkzo x12go9s9 x1rnf11y xprq8jg x972fbf xcfux6l x1qhh985 xm0m39n x9f619 x78zum5 xl56j7k xexx8yu x4uap5 x18d9i69 xkhd6sd x1n2onr6 xc9qbxq x14qfxbe x1qhmfi1\"\n",
    "  filteredButton = list(filter(filter_Button, buttonToClose))\n",
    "  for x in filteredButton:\n",
    "    x.click()\n",
    "    await asyncio.sleep(0.5)\n",
    "  links = driver.find_elements(By.TAG_NAME, \"a\")\n",
    "  facebook_links = [link.get_attribute(\"href\") for link in links if link.get_attribute(\"href\") and 'facebook.com' in link.get_attribute(\"href\")]\n",
    "  driver.quit()\n",
    "  filtered_facebook_links = list(filter(lambda x: x != None, (get_facebook_links(l, fb_page) for l in facebook_links)))\n",
    "  saveToCSV(filtered_facebook_links, f\"{fb_page}.csv\")\n",
    "\n",
    "loop = asyncio.get_event_loop()\n",
    "\n",
    "\n",
    "loop.create_task(main())"
   ]
  },
  {
   "cell_type": "code",
   "execution_count": 10,
   "metadata": {},
   "outputs": [
    {
     "name": "stdout",
     "output_type": "stream",
     "text": [
      "An error occurred: 400 Client Error: Bad Request for url: https://www.facebook.com/login/?next=https%3A%2F%2Fwww.facebook.com%2Ffopsco.ph\n"
     ]
    }
   ],
   "source": [
    "import requests\n",
    "from bs4 import BeautifulSoup\n",
    "\n",
    "# The URL of the Facebook page (ensure it's publicly accessible)\n",
    "url = \"https://www.facebook.com/fopsco.ph\"\n",
    "\n",
    "# Define headers to mimic a browser\n",
    "headers = {\n",
    "    \"User-Agent\": \"Mozilla/5.0 (Windows NT 10.0; Win64; x64) AppleWebKit/537.36 (KHTML, like Gecko) Chrome/91.0.4472.124 Safari/537.36\"\n",
    "}\n",
    "\n",
    "try:\n",
    "    # Send a GET request to the URL\n",
    "    response = requests.get(url, headers=headers)\n",
    "    response.raise_for_status()\n",
    "\n",
    "    # Parse the HTML content\n",
    "    soup = BeautifulSoup(response.text, 'html.parser')\n",
    "\n",
    "    # Find all links in the page\n",
    "    links = soup.find_all('a', href=True)\n",
    "\n",
    "    # Filter and print Facebook links\n",
    "    facebook_links = [link['href'] for link in links if 'facebook.com' in link['href']]\n",
    "    for fb_link in facebook_links:\n",
    "        print(fb_link)\n",
    "\n",
    "except requests.exceptions.RequestException as e:\n",
    "    print(f\"An error occurred: {e}\")\n"
   ]
  },
  {
   "cell_type": "code",
   "execution_count": null,
   "metadata": {},
   "outputs": [],
   "source": []
  }
 ],
 "metadata": {
  "kernelspec": {
   "display_name": ".venv",
   "language": "python",
   "name": "python3"
  },
  "language_info": {
   "codemirror_mode": {
    "name": "ipython",
    "version": 3
   },
   "file_extension": ".py",
   "mimetype": "text/x-python",
   "name": "python",
   "nbconvert_exporter": "python",
   "pygments_lexer": "ipython3",
   "version": "3.11.9"
  }
 },
 "nbformat": 4,
 "nbformat_minor": 2
}
