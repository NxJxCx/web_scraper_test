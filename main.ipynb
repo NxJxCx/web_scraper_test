{
 "cells": [
  {
   "cell_type": "code",
   "execution_count": null,
   "metadata": {},
   "outputs": [],
   "source": [
    "%pip install requests beautifulsoup4 pandas numpy selenium"
   ]
  },
  {
   "cell_type": "code",
   "execution_count": 33,
   "metadata": {},
   "outputs": [],
   "source": [
    "from selenium import webdriver\n",
    "from selenium.webdriver.common.by import By\n",
    "from urllib.parse import urlparse, parse_qs, unquote\n",
    "import pandas as pd\n",
    "\n",
    "def saveToCSV(data: list, filename: str):\n",
    "  df = pd.DataFrame(data, columns=[\"Facebook Links\"])\n",
    "  df.to_csv(filename, index=False)\n",
    "  print(f\"CSV saved to {filename}\")\n",
    "  return df\n",
    "\n",
    "\n",
    "def getDriver(facebook_page):\n",
    "  driver = webdriver.Chrome()\n",
    "  driver.get(f\"https://www.facebook.com/{facebook_page}\")\n",
    "  return driver\n",
    "\n",
    "def filter_Button(x):\n",
    "  if x.get_attribute(\"aria-label\") == \"Close\" and x.get_attribute(\"role\") == \"button\" and str(x.get_attribute(\"tabindex\")) == \"0\":\n",
    "    return True\n",
    "  return False\n",
    "\n",
    "def get_facebook_links(facebook_link: str, facebook_page: str):\n",
    "  if facebook_link.startswith(f\"https://l.facebook.com/l.php\"):\n",
    "    parsed_url = urlparse(facebook_link)\n",
    "    query_params = parse_qs(parsed_url.query)\n",
    "    url = query_params.get(\"u\", [None])\n",
    "    if len(url) > 0:\n",
    "      return unquote(url[0])\n",
    "  elif facebook_link.startswith(f\"https://www.facebook.com/{facebook_page}/\") or facebook_link.startswith(f\"https://www.facebook.com/photo/\"):\n",
    "    return facebook_link\n",
    "  return None"
   ]
  },
  {
   "cell_type": "code",
   "execution_count": 36,
   "metadata": {},
   "outputs": [],
   "source": [
    "from time import sleep\n",
    "def scrape_fb_page(fb_page: str):\n",
    "  driver = getDriver(fb_page)\n",
    "  sleep(1)\n",
    "  buttonToClose = driver.find_elements(By.TAG_NAME, \"div\")\n",
    "  # \"x1i10hfl xjqpnuy xa49m3k xqeqjp1 x2hbi6w x13fuv20 xu3j5b3 x1q0q8m5 x26u7qi x1ypdohk xdl72j9 x2lah0s xe8uvvx xdj266r x11i5rnm xat24cr x1mh8g0r x2lwn1j xeuugli x16tdsg8 x1hl2dhg xggy1nq x1ja2u2z x1t137rt x1q0g3np x87ps6o x1lku1pv x1a2a7pz x6s0dn4 xzolkzo x12go9s9 x1rnf11y xprq8jg x972fbf xcfux6l x1qhh985 xm0m39n x9f619 x78zum5 xl56j7k xexx8yu x4uap5 x18d9i69 xkhd6sd x1n2onr6 xc9qbxq x14qfxbe x1qhmfi1\"\n",
    "  filteredButton = list(filter(filter_Button, buttonToClose))\n",
    "  for x in filteredButton:\n",
    "    x.click()\n",
    "  links = driver.find_elements(By.TAG_NAME, \"a\")\n",
    "  facebook_links = [link.get_attribute(\"href\") for link in links if link.get_attribute(\"href\") and 'facebook.com' in link.get_attribute(\"href\")]\n",
    "  driver.quit()\n",
    "  filtered_facebook_links = list(filter(lambda x: x != None, (get_facebook_links(l, fb_page) for l in facebook_links)))\n",
    "  print(saveToCSV(filtered_facebook_links, f\"{fb_page}.csv\"))"
   ]
  },
  {
   "cell_type": "code",
   "execution_count": 37,
   "metadata": {},
   "outputs": [
    {
     "name": "stdout",
     "output_type": "stream",
     "text": [
      "CSV saved to fopsco.ph.csv\n",
      "                                       Facebook Links\n",
      "0   https://www.facebook.com/photo/?fbid=824679599...\n",
      "1   https://www.facebook.com/photo/?fbid=785850863...\n",
      "2   https://www.facebook.com/fopsco.ph/friends_likes/\n",
      "3       https://www.facebook.com/fopsco.ph/followers/\n",
      "4                 https://www.facebook.com/fopsco.ph/\n",
      "5            https://www.facebook.com/fopsco.ph/about\n",
      "6        https://www.facebook.com/fopsco.ph/reels_tab\n",
      "7           https://www.facebook.com/fopsco.ph/photos\n",
      "8           https://www.facebook.com/fopsco.ph/videos\n",
      "9   https://linkedin.com/in/https://www.linkedin.c...\n",
      "10                                 https://fopsco.ph/\n",
      "11         https://www.facebook.com/fopsco.ph/reviews\n",
      "12          https://www.facebook.com/fopsco.ph/photos\n",
      "13          https://www.facebook.com/fopsco.ph/photos\n",
      "14  https://www.facebook.com/photo/?fbid=109061215...\n",
      "15  https://www.facebook.com/photo/?fbid=302891044...\n",
      "16  https://www.facebook.com/photo/?fbid=601994048...\n",
      "17  https://www.facebook.com/photo/?fbid=738715521...\n",
      "18  https://www.facebook.com/photo/?fbid=448557910...\n",
      "19  https://www.facebook.com/photo/?fbid=824560533...\n",
      "20  https://www.facebook.com/photo/?fbid=448557907...\n",
      "21  https://www.facebook.com/photo/?fbid=104346833...\n",
      "22  https://www.facebook.com/photo/?fbid=103470491...\n",
      "23  https://www.facebook.com/photo/?fbid=104346833...\n",
      "24  https://www.facebook.com/fopsco.ph/posts/pfbid...\n"
     ]
    }
   ],
   "source": [
    "# example for fopsco.ph facebook page\n",
    "scrape_fb_page(\"fopsco.ph\")"
   ]
  },
  {
   "cell_type": "code",
   "execution_count": null,
   "metadata": {},
   "outputs": [],
   "source": [
    "def scrape_fb_page(fb_page: str):\n",
    "  driver = getDriver(fb_page)\n",
    "  sleep(1)\n",
    "  buttonToClose = driver.find_elements(By.TAG_NAME, \"div\")\n",
    "  # \"x1i10hfl xjqpnuy xa49m3k xqeqjp1 x2hbi6w x13fuv20 xu3j5b3 x1q0q8m5 x26u7qi x1ypdohk xdl72j9 x2lah0s xe8uvvx xdj266r x11i5rnm xat24cr x1mh8g0r x2lwn1j xeuugli x16tdsg8 x1hl2dhg xggy1nq x1ja2u2z x1t137rt x1q0g3np x87ps6o x1lku1pv x1a2a7pz x6s0dn4 xzolkzo x12go9s9 x1rnf11y xprq8jg x972fbf xcfux6l x1qhh985 xm0m39n x9f619 x78zum5 xl56j7k xexx8yu x4uap5 x18d9i69 xkhd6sd x1n2onr6 xc9qbxq x14qfxbe x1qhmfi1\"\n",
    "  filteredButton = list(filter(filter_Button, buttonToClose))\n",
    "  for x in filteredButton:\n",
    "    x.click()\n",
    "  links = driver.find_elements(By.TAG_NAME, \"a\")\n",
    "  facebook_links = [link.get_attribute(\"href\") for link in links if link.get_attribute(\"href\") and 'facebook.com' in link.get_attribute(\"href\")]\n",
    "  driver.quit()\n",
    "  filtered_facebook_links = list(filter(lambda x: x != None, (get_facebook_links(l, fb_page) for l in facebook_links)))\n",
    "  print(saveToCSV(filtered_facebook_links, f\"{fb_page}.csv\"))"
   ]
  }
 ],
 "metadata": {
  "kernelspec": {
   "display_name": ".venv",
   "language": "python",
   "name": "python3"
  },
  "language_info": {
   "codemirror_mode": {
    "name": "ipython",
    "version": 3
   },
   "file_extension": ".py",
   "mimetype": "text/x-python",
   "name": "python",
   "nbconvert_exporter": "python",
   "pygments_lexer": "ipython3",
   "version": "3.11.9"
  }
 },
 "nbformat": 4,
 "nbformat_minor": 2
}
